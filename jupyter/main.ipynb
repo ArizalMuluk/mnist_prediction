{
  "nbformat": 4,
  "nbformat_minor": 0,
  "metadata": {
    "colab": {
      "provenance": []
    },
    "kernelspec": {
      "name": "python3",
      "display_name": "Python 3"
    },
    "language_info": {
      "name": "python"
    }
  },
  "cells": [
    {
      "cell_type": "code",
      "execution_count": 2,
      "metadata": {
        "id": "42qUqFOyDVXM"
      },
      "outputs": [],
      "source": [
        "from torchvision import datasets\n",
        "from torchvision.transforms import ToTensor"
      ]
    },
    {
      "cell_type": "code",
      "source": [
        "train_data = datasets.MNIST(\n",
        "    root = 'data',\n",
        "    train = True,\n",
        "    transform = ToTensor(),\n",
        "    download = True\n",
        ")\n",
        "\n",
        "test_data = datasets.MNIST(\n",
        "    root = 'data',\n",
        "    train = False,\n",
        "    transform = ToTensor(),\n",
        "    download = True\n",
        ")"
      ],
      "metadata": {
        "colab": {
          "base_uri": "https://localhost:8080/"
        },
        "id": "coL6WOxYDjmt",
        "outputId": "75a529d1-04cc-4ec9-d75b-71688159fed9"
      },
      "execution_count": 6,
      "outputs": [
        {
          "output_type": "stream",
          "name": "stderr",
          "text": [
            "100%|██████████| 9.91M/9.91M [00:00<00:00, 41.6MB/s]\n",
            "100%|██████████| 28.9k/28.9k [00:00<00:00, 1.12MB/s]\n",
            "100%|██████████| 1.65M/1.65M [00:00<00:00, 10.5MB/s]\n",
            "100%|██████████| 4.54k/4.54k [00:00<00:00, 1.63MB/s]\n"
          ]
        }
      ]
    },
    {
      "cell_type": "code",
      "source": [
        "train_data"
      ],
      "metadata": {
        "colab": {
          "base_uri": "https://localhost:8080/"
        },
        "id": "zWIDhNl-FN2X",
        "outputId": "1bf7f1e6-f431-4cb9-aa6c-067e4200d2ba"
      },
      "execution_count": 7,
      "outputs": [
        {
          "output_type": "execute_result",
          "data": {
            "text/plain": [
              "Dataset MNIST\n",
              "    Number of datapoints: 60000\n",
              "    Root location: data\n",
              "    Split: Train\n",
              "    StandardTransform\n",
              "Transform: ToTensor()"
            ]
          },
          "metadata": {},
          "execution_count": 7
        }
      ]
    },
    {
      "cell_type": "code",
      "source": [
        "test_data"
      ],
      "metadata": {
        "colab": {
          "base_uri": "https://localhost:8080/"
        },
        "id": "cxf7dxFJFjQP",
        "outputId": "6ca634d8-2fd5-4511-e16a-4541665aea3b"
      },
      "execution_count": 8,
      "outputs": [
        {
          "output_type": "execute_result",
          "data": {
            "text/plain": [
              "Dataset MNIST\n",
              "    Number of datapoints: 10000\n",
              "    Root location: data\n",
              "    Split: Test\n",
              "    StandardTransform\n",
              "Transform: ToTensor()"
            ]
          },
          "metadata": {},
          "execution_count": 8
        }
      ]
    },
    {
      "cell_type": "code",
      "source": [
        "train_data.data.shape"
      ],
      "metadata": {
        "colab": {
          "base_uri": "https://localhost:8080/"
        },
        "id": "03F5A_hIFlZ_",
        "outputId": "54322395-b22a-47f6-af13-07ea96cf4c8a"
      },
      "execution_count": 11,
      "outputs": [
        {
          "output_type": "execute_result",
          "data": {
            "text/plain": [
              "torch.Size([60000, 28, 28])"
            ]
          },
          "metadata": {},
          "execution_count": 11
        }
      ]
    },
    {
      "cell_type": "code",
      "source": [
        "test_data.data.shape"
      ],
      "metadata": {
        "colab": {
          "base_uri": "https://localhost:8080/"
        },
        "id": "AV31wSumF9l2",
        "outputId": "2b547bcc-a71e-4bf1-fd43-ef12cc99bc7d"
      },
      "execution_count": 12,
      "outputs": [
        {
          "output_type": "execute_result",
          "data": {
            "text/plain": [
              "torch.Size([10000, 28, 28])"
            ]
          },
          "metadata": {},
          "execution_count": 12
        }
      ]
    },
    {
      "cell_type": "code",
      "source": [
        "train_data.targets.shape"
      ],
      "metadata": {
        "colab": {
          "base_uri": "https://localhost:8080/"
        },
        "id": "svj-rDR7GKgS",
        "outputId": "924aa972-ab2d-4314-a15d-cb941ddd70bc"
      },
      "execution_count": 13,
      "outputs": [
        {
          "output_type": "execute_result",
          "data": {
            "text/plain": [
              "torch.Size([60000])"
            ]
          },
          "metadata": {},
          "execution_count": 13
        }
      ]
    },
    {
      "cell_type": "code",
      "source": [
        "train_data.targets"
      ],
      "metadata": {
        "colab": {
          "base_uri": "https://localhost:8080/"
        },
        "id": "QgxKyvebGMRU",
        "outputId": "a4844ea7-7a23-4c03-af65-8cfc07354ba5"
      },
      "execution_count": 14,
      "outputs": [
        {
          "output_type": "execute_result",
          "data": {
            "text/plain": [
              "tensor([5, 0, 4,  ..., 5, 6, 8])"
            ]
          },
          "metadata": {},
          "execution_count": 14
        }
      ]
    },
    {
      "cell_type": "code",
      "source": [
        "from torch.utils.data import DataLoader\n",
        "\n",
        "loaders = {\n",
        "    'train' : DataLoader(train_data, batch_size=100, shuffle=True, num_workers=1),\n",
        "    'test'  : DataLoader(test_data, batch_size=100, shuffle=True, num_workers=1)\n",
        "}"
      ],
      "metadata": {
        "id": "HWhB03cgGQDw"
      },
      "execution_count": 15,
      "outputs": []
    },
    {
      "cell_type": "code",
      "source": [
        "loaders"
      ],
      "metadata": {
        "colab": {
          "base_uri": "https://localhost:8080/"
        },
        "id": "ep5yrYDFGpec",
        "outputId": "e0c05f3d-ab5b-4ac0-e04d-fc7ead2935d4"
      },
      "execution_count": 16,
      "outputs": [
        {
          "output_type": "execute_result",
          "data": {
            "text/plain": [
              "{'train': <torch.utils.data.dataloader.DataLoader at 0x7d865f9844d0>,\n",
              " 'test': <torch.utils.data.dataloader.DataLoader at 0x7d865f987090>}"
            ]
          },
          "metadata": {},
          "execution_count": 16
        }
      ]
    },
    {
      "cell_type": "code",
      "source": [
        "import torch.nn as nn\n",
        "import torch.nn.functional as F\n",
        "import torch.optim as optim\n",
        "\n",
        "class CNN(nn.Module):\n",
        "  def __init__(self):\n",
        "    super(CNN, self).__init__()\n",
        "\n",
        "    self.conv1 = nn.Conv2d(1, 10, kernel_size=5)\n",
        "    self.conv2 = nn.Conv2d(10, 20, kernel_size=5)\n",
        "    self.conv2_drop = nn.Dropout2d()\n",
        "    self.fc1 = nn.Linear(320, 50)\n",
        "    self.fc2 = nn.Linear(50, 10)\n",
        "\n",
        "  def forward(self, x):\n",
        "    x = F.relu(F.max_pool2d(self.conv1(x), 2))\n",
        "    x = F.relu(F.max_pool2d(self.conv2_drop(self.conv2(x)), 2))\n",
        "    x = x.view(-1, 320)\n",
        "    x = F.relu(self.fc1(x))\n",
        "    x = F.dropout(x, training=self.training)\n",
        "    x = self.fc2(x)\n",
        "\n",
        "    return F.softmax(x)"
      ],
      "metadata": {
        "id": "itsUPe3oGq4k"
      },
      "execution_count": 31,
      "outputs": []
    },
    {
      "cell_type": "code",
      "source": [
        "import torch as tc\n",
        "\n",
        "device = tc.device('cuda' if tc.cuda.is_available() else 'cpu')\n",
        "\n",
        "model = CNN().to(device)\n",
        "\n",
        "optimizer = optim.Adam(model.parameters(), lr=0.001)\n",
        "\n",
        "loss_fn = nn.CrossEntropyLoss()\n",
        "\n",
        "def train(epoch):\n",
        "  model.train()\n",
        "  for batch_idx, (data, target) in enumerate(loaders['train']):\n",
        "    data, target = data.to(device), target.to(device)\n",
        "    optimizer.zero_grad()\n",
        "    output = model(data)\n",
        "    loss = loss_fn(output, target)\n",
        "    loss.backward()\n",
        "    optimizer.step()\n",
        "    if batch_idx % 20 == 0:\n",
        "      print(f\"Train Epoch: {epoch} [{batch_idx * len(data)}/{len(loaders['train'].dataset)} ({100. * batch_idx / len(loaders['train']):.0}%)]\\t{loss.item():.6f}\")\n",
        "\n",
        "\n",
        "def test():\n",
        "  model.eval()\n",
        "\n",
        "  test_loss = 0\n",
        "  correct = 0\n",
        "\n",
        "  with tc.no_grad():\n",
        "    for data, target in loaders['test']:\n",
        "      data, target = data.to(device), target.to(device)\n",
        "      output = model(data)\n",
        "      test_loss += loss_fn(output, target).item()\n",
        "      pred = output.argmax(dim=1, keepdim=True)\n",
        "      correct += pred.eq(target.view_as(pred)).sum().item()\n",
        "\n",
        "  test_loss /= len(loaders['test'].dataset)\n",
        "  print(f\"\\nTest set : Average Loss : {test_loss:.4f}, Accuracy : {correct}/{len(loaders['test'].dataset)} ({100. * correct / len(loaders['test'].dataset):.0f}%\\n)\")"
      ],
      "metadata": {
        "id": "Ddr3YV4dInA9"
      },
      "execution_count": 36,
      "outputs": []
    },
    {
      "cell_type": "code",
      "source": [
        "for epoch in range(1, 11):\n",
        "  train(epoch)\n",
        "  test()"
      ],
      "metadata": {
        "colab": {
          "base_uri": "https://localhost:8080/"
        },
        "id": "d4_sL6zwM0R3",
        "outputId": "4037ca6e-5013-4cfe-ad8d-a85a370de693"
      },
      "execution_count": 37,
      "outputs": [
        {
          "output_type": "stream",
          "name": "stderr",
          "text": [
            "<ipython-input-31-f51b4eae5eea>:23: UserWarning: Implicit dimension choice for softmax has been deprecated. Change the call to include dim=X as an argument.\n",
            "  return F.softmax(x)\n"
          ]
        },
        {
          "output_type": "stream",
          "name": "stdout",
          "text": [
            "Train Epoch: 1 [0/60000 (0e+00%)]\t2.302325\n",
            "Train Epoch: 1 [2000/60000 (3e+00%)]\t2.271364\n",
            "Train Epoch: 1 [4000/60000 (7e+00%)]\t2.194888\n",
            "Train Epoch: 1 [6000/60000 (1e+01%)]\t2.004856\n",
            "Train Epoch: 1 [8000/60000 (1e+01%)]\t1.895447\n",
            "Train Epoch: 1 [10000/60000 (2e+01%)]\t1.857925\n",
            "Train Epoch: 1 [12000/60000 (2e+01%)]\t1.827709\n",
            "Train Epoch: 1 [14000/60000 (2e+01%)]\t1.799923\n",
            "Train Epoch: 1 [16000/60000 (3e+01%)]\t1.817845\n",
            "Train Epoch: 1 [18000/60000 (3e+01%)]\t1.842660\n",
            "Train Epoch: 1 [20000/60000 (3e+01%)]\t1.756120\n",
            "Train Epoch: 1 [22000/60000 (4e+01%)]\t1.702504\n",
            "Train Epoch: 1 [24000/60000 (4e+01%)]\t1.684955\n",
            "Train Epoch: 1 [26000/60000 (4e+01%)]\t1.688913\n",
            "Train Epoch: 1 [28000/60000 (5e+01%)]\t1.746581\n",
            "Train Epoch: 1 [30000/60000 (5e+01%)]\t1.688500\n",
            "Train Epoch: 1 [32000/60000 (5e+01%)]\t1.672367\n",
            "Train Epoch: 1 [34000/60000 (6e+01%)]\t1.690626\n",
            "Train Epoch: 1 [36000/60000 (6e+01%)]\t1.643997\n",
            "Train Epoch: 1 [38000/60000 (6e+01%)]\t1.693273\n",
            "Train Epoch: 1 [40000/60000 (7e+01%)]\t1.615440\n",
            "Train Epoch: 1 [42000/60000 (7e+01%)]\t1.625565\n",
            "Train Epoch: 1 [44000/60000 (7e+01%)]\t1.607436\n",
            "Train Epoch: 1 [46000/60000 (8e+01%)]\t1.627462\n",
            "Train Epoch: 1 [48000/60000 (8e+01%)]\t1.597373\n",
            "Train Epoch: 1 [50000/60000 (8e+01%)]\t1.596124\n",
            "Train Epoch: 1 [52000/60000 (9e+01%)]\t1.546305\n",
            "Train Epoch: 1 [54000/60000 (9e+01%)]\t1.632965\n",
            "Train Epoch: 1 [56000/60000 (9e+01%)]\t1.647472\n",
            "Train Epoch: 1 [58000/60000 (1e+02%)]\t1.604251\n",
            "\n",
            "Test set : Average Loss : 0.0153, Accuracy : 9373/10000 (94%\n",
            ")\n",
            "Train Epoch: 2 [0/60000 (0e+00%)]\t1.625871\n",
            "Train Epoch: 2 [2000/60000 (3e+00%)]\t1.608027\n",
            "Train Epoch: 2 [4000/60000 (7e+00%)]\t1.582476\n",
            "Train Epoch: 2 [6000/60000 (1e+01%)]\t1.571589\n",
            "Train Epoch: 2 [8000/60000 (1e+01%)]\t1.578091\n",
            "Train Epoch: 2 [10000/60000 (2e+01%)]\t1.610062\n",
            "Train Epoch: 2 [12000/60000 (2e+01%)]\t1.596919\n",
            "Train Epoch: 2 [14000/60000 (2e+01%)]\t1.558424\n",
            "Train Epoch: 2 [16000/60000 (3e+01%)]\t1.602406\n",
            "Train Epoch: 2 [18000/60000 (3e+01%)]\t1.549823\n",
            "Train Epoch: 2 [20000/60000 (3e+01%)]\t1.599427\n",
            "Train Epoch: 2 [22000/60000 (4e+01%)]\t1.611048\n",
            "Train Epoch: 2 [24000/60000 (4e+01%)]\t1.528872\n",
            "Train Epoch: 2 [26000/60000 (4e+01%)]\t1.555901\n",
            "Train Epoch: 2 [28000/60000 (5e+01%)]\t1.568259\n",
            "Train Epoch: 2 [30000/60000 (5e+01%)]\t1.562223\n",
            "Train Epoch: 2 [32000/60000 (5e+01%)]\t1.577820\n",
            "Train Epoch: 2 [34000/60000 (6e+01%)]\t1.546163\n",
            "Train Epoch: 2 [36000/60000 (6e+01%)]\t1.555616\n",
            "Train Epoch: 2 [38000/60000 (6e+01%)]\t1.607559\n",
            "Train Epoch: 2 [40000/60000 (7e+01%)]\t1.530019\n",
            "Train Epoch: 2 [42000/60000 (7e+01%)]\t1.590713\n",
            "Train Epoch: 2 [44000/60000 (7e+01%)]\t1.572377\n",
            "Train Epoch: 2 [46000/60000 (8e+01%)]\t1.556582\n",
            "Train Epoch: 2 [48000/60000 (8e+01%)]\t1.635415\n",
            "Train Epoch: 2 [50000/60000 (8e+01%)]\t1.572124\n",
            "Train Epoch: 2 [52000/60000 (9e+01%)]\t1.497665\n",
            "Train Epoch: 2 [54000/60000 (9e+01%)]\t1.559440\n",
            "Train Epoch: 2 [56000/60000 (9e+01%)]\t1.581187\n",
            "Train Epoch: 2 [58000/60000 (1e+02%)]\t1.555827\n",
            "\n",
            "Test set : Average Loss : 0.0151, Accuracy : 9549/10000 (95%\n",
            ")\n",
            "Train Epoch: 3 [0/60000 (0e+00%)]\t1.590674\n",
            "Train Epoch: 3 [2000/60000 (3e+00%)]\t1.575892\n",
            "Train Epoch: 3 [4000/60000 (7e+00%)]\t1.597777\n",
            "Train Epoch: 3 [6000/60000 (1e+01%)]\t1.595894\n",
            "Train Epoch: 3 [8000/60000 (1e+01%)]\t1.542974\n",
            "Train Epoch: 3 [10000/60000 (2e+01%)]\t1.533581\n",
            "Train Epoch: 3 [12000/60000 (2e+01%)]\t1.536283\n",
            "Train Epoch: 3 [14000/60000 (2e+01%)]\t1.547869\n",
            "Train Epoch: 3 [16000/60000 (3e+01%)]\t1.597857\n",
            "Train Epoch: 3 [18000/60000 (3e+01%)]\t1.550362\n",
            "Train Epoch: 3 [20000/60000 (3e+01%)]\t1.602714\n",
            "Train Epoch: 3 [22000/60000 (4e+01%)]\t1.570545\n",
            "Train Epoch: 3 [24000/60000 (4e+01%)]\t1.546981\n",
            "Train Epoch: 3 [26000/60000 (4e+01%)]\t1.565802\n",
            "Train Epoch: 3 [28000/60000 (5e+01%)]\t1.572655\n",
            "Train Epoch: 3 [30000/60000 (5e+01%)]\t1.524235\n",
            "Train Epoch: 3 [32000/60000 (5e+01%)]\t1.528535\n",
            "Train Epoch: 3 [34000/60000 (6e+01%)]\t1.573976\n",
            "Train Epoch: 3 [36000/60000 (6e+01%)]\t1.563534\n",
            "Train Epoch: 3 [38000/60000 (6e+01%)]\t1.567217\n",
            "Train Epoch: 3 [40000/60000 (7e+01%)]\t1.554545\n",
            "Train Epoch: 3 [42000/60000 (7e+01%)]\t1.543971\n",
            "Train Epoch: 3 [44000/60000 (7e+01%)]\t1.582014\n",
            "Train Epoch: 3 [46000/60000 (8e+01%)]\t1.535227\n",
            "Train Epoch: 3 [48000/60000 (8e+01%)]\t1.522616\n",
            "Train Epoch: 3 [50000/60000 (8e+01%)]\t1.553176\n",
            "Train Epoch: 3 [52000/60000 (9e+01%)]\t1.501260\n",
            "Train Epoch: 3 [54000/60000 (9e+01%)]\t1.528242\n",
            "Train Epoch: 3 [56000/60000 (9e+01%)]\t1.556895\n",
            "Train Epoch: 3 [58000/60000 (1e+02%)]\t1.516076\n",
            "\n",
            "Test set : Average Loss : 0.0150, Accuracy : 9604/10000 (96%\n",
            ")\n",
            "Train Epoch: 4 [0/60000 (0e+00%)]\t1.572612\n",
            "Train Epoch: 4 [2000/60000 (3e+00%)]\t1.566732\n",
            "Train Epoch: 4 [4000/60000 (7e+00%)]\t1.560383\n",
            "Train Epoch: 4 [6000/60000 (1e+01%)]\t1.555636\n",
            "Train Epoch: 4 [8000/60000 (1e+01%)]\t1.532713\n",
            "Train Epoch: 4 [10000/60000 (2e+01%)]\t1.527929\n",
            "Train Epoch: 4 [12000/60000 (2e+01%)]\t1.555730\n",
            "Train Epoch: 4 [14000/60000 (2e+01%)]\t1.551050\n",
            "Train Epoch: 4 [16000/60000 (3e+01%)]\t1.575499\n",
            "Train Epoch: 4 [18000/60000 (3e+01%)]\t1.520682\n",
            "Train Epoch: 4 [20000/60000 (3e+01%)]\t1.585723\n",
            "Train Epoch: 4 [22000/60000 (4e+01%)]\t1.537536\n",
            "Train Epoch: 4 [24000/60000 (4e+01%)]\t1.572378\n",
            "Train Epoch: 4 [26000/60000 (4e+01%)]\t1.572006\n",
            "Train Epoch: 4 [28000/60000 (5e+01%)]\t1.561813\n",
            "Train Epoch: 4 [30000/60000 (5e+01%)]\t1.527960\n",
            "Train Epoch: 4 [32000/60000 (5e+01%)]\t1.535374\n",
            "Train Epoch: 4 [34000/60000 (6e+01%)]\t1.570684\n",
            "Train Epoch: 4 [36000/60000 (6e+01%)]\t1.545105\n",
            "Train Epoch: 4 [38000/60000 (6e+01%)]\t1.528732\n",
            "Train Epoch: 4 [40000/60000 (7e+01%)]\t1.543859\n",
            "Train Epoch: 4 [42000/60000 (7e+01%)]\t1.552021\n",
            "Train Epoch: 4 [44000/60000 (7e+01%)]\t1.497388\n",
            "Train Epoch: 4 [46000/60000 (8e+01%)]\t1.542510\n",
            "Train Epoch: 4 [48000/60000 (8e+01%)]\t1.539913\n",
            "Train Epoch: 4 [50000/60000 (8e+01%)]\t1.585774\n",
            "Train Epoch: 4 [52000/60000 (9e+01%)]\t1.525928\n",
            "Train Epoch: 4 [54000/60000 (9e+01%)]\t1.577528\n",
            "Train Epoch: 4 [56000/60000 (9e+01%)]\t1.520271\n",
            "Train Epoch: 4 [58000/60000 (1e+02%)]\t1.514075\n",
            "\n",
            "Test set : Average Loss : 0.0150, Accuracy : 9638/10000 (96%\n",
            ")\n",
            "Train Epoch: 5 [0/60000 (0e+00%)]\t1.556422\n",
            "Train Epoch: 5 [2000/60000 (3e+00%)]\t1.521051\n",
            "Train Epoch: 5 [4000/60000 (7e+00%)]\t1.559848\n",
            "Train Epoch: 5 [6000/60000 (1e+01%)]\t1.527275\n",
            "Train Epoch: 5 [8000/60000 (1e+01%)]\t1.505687\n",
            "Train Epoch: 5 [10000/60000 (2e+01%)]\t1.528565\n",
            "Train Epoch: 5 [12000/60000 (2e+01%)]\t1.556010\n",
            "Train Epoch: 5 [14000/60000 (2e+01%)]\t1.547360\n",
            "Train Epoch: 5 [16000/60000 (3e+01%)]\t1.567816\n",
            "Train Epoch: 5 [18000/60000 (3e+01%)]\t1.526394\n",
            "Train Epoch: 5 [20000/60000 (3e+01%)]\t1.547318\n",
            "Train Epoch: 5 [22000/60000 (4e+01%)]\t1.564495\n",
            "Train Epoch: 5 [24000/60000 (4e+01%)]\t1.553801\n",
            "Train Epoch: 5 [26000/60000 (4e+01%)]\t1.499180\n",
            "Train Epoch: 5 [28000/60000 (5e+01%)]\t1.542835\n",
            "Train Epoch: 5 [30000/60000 (5e+01%)]\t1.531049\n",
            "Train Epoch: 5 [32000/60000 (5e+01%)]\t1.501211\n",
            "Train Epoch: 5 [34000/60000 (6e+01%)]\t1.522176\n",
            "Train Epoch: 5 [36000/60000 (6e+01%)]\t1.528286\n",
            "Train Epoch: 5 [38000/60000 (6e+01%)]\t1.544876\n",
            "Train Epoch: 5 [40000/60000 (7e+01%)]\t1.519122\n",
            "Train Epoch: 5 [42000/60000 (7e+01%)]\t1.528968\n",
            "Train Epoch: 5 [44000/60000 (7e+01%)]\t1.522798\n",
            "Train Epoch: 5 [46000/60000 (8e+01%)]\t1.533275\n",
            "Train Epoch: 5 [48000/60000 (8e+01%)]\t1.577638\n",
            "Train Epoch: 5 [50000/60000 (8e+01%)]\t1.575655\n",
            "Train Epoch: 5 [52000/60000 (9e+01%)]\t1.550664\n",
            "Train Epoch: 5 [54000/60000 (9e+01%)]\t1.526287\n",
            "Train Epoch: 5 [56000/60000 (9e+01%)]\t1.585065\n",
            "Train Epoch: 5 [58000/60000 (1e+02%)]\t1.545645\n",
            "\n",
            "Test set : Average Loss : 0.0149, Accuracy : 9667/10000 (97%\n",
            ")\n",
            "Train Epoch: 6 [0/60000 (0e+00%)]\t1.534146\n",
            "Train Epoch: 6 [2000/60000 (3e+00%)]\t1.543639\n",
            "Train Epoch: 6 [4000/60000 (7e+00%)]\t1.538618\n",
            "Train Epoch: 6 [6000/60000 (1e+01%)]\t1.524116\n",
            "Train Epoch: 6 [8000/60000 (1e+01%)]\t1.535314\n",
            "Train Epoch: 6 [10000/60000 (2e+01%)]\t1.541733\n",
            "Train Epoch: 6 [12000/60000 (2e+01%)]\t1.542876\n",
            "Train Epoch: 6 [14000/60000 (2e+01%)]\t1.541211\n",
            "Train Epoch: 6 [16000/60000 (3e+01%)]\t1.546480\n",
            "Train Epoch: 6 [18000/60000 (3e+01%)]\t1.526217\n",
            "Train Epoch: 6 [20000/60000 (3e+01%)]\t1.512643\n",
            "Train Epoch: 6 [22000/60000 (4e+01%)]\t1.538306\n",
            "Train Epoch: 6 [24000/60000 (4e+01%)]\t1.518912\n",
            "Train Epoch: 6 [26000/60000 (4e+01%)]\t1.528178\n",
            "Train Epoch: 6 [28000/60000 (5e+01%)]\t1.567014\n",
            "Train Epoch: 6 [30000/60000 (5e+01%)]\t1.558620\n",
            "Train Epoch: 6 [32000/60000 (5e+01%)]\t1.516135\n",
            "Train Epoch: 6 [34000/60000 (6e+01%)]\t1.506695\n",
            "Train Epoch: 6 [36000/60000 (6e+01%)]\t1.535877\n",
            "Train Epoch: 6 [38000/60000 (6e+01%)]\t1.541895\n",
            "Train Epoch: 6 [40000/60000 (7e+01%)]\t1.546564\n",
            "Train Epoch: 6 [42000/60000 (7e+01%)]\t1.520060\n",
            "Train Epoch: 6 [44000/60000 (7e+01%)]\t1.530203\n",
            "Train Epoch: 6 [46000/60000 (8e+01%)]\t1.497783\n",
            "Train Epoch: 6 [48000/60000 (8e+01%)]\t1.536055\n",
            "Train Epoch: 6 [50000/60000 (8e+01%)]\t1.521773\n",
            "Train Epoch: 6 [52000/60000 (9e+01%)]\t1.530755\n",
            "Train Epoch: 6 [54000/60000 (9e+01%)]\t1.561537\n",
            "Train Epoch: 6 [56000/60000 (9e+01%)]\t1.532878\n",
            "Train Epoch: 6 [58000/60000 (1e+02%)]\t1.559844\n",
            "\n",
            "Test set : Average Loss : 0.0149, Accuracy : 9698/10000 (97%\n",
            ")\n",
            "Train Epoch: 7 [0/60000 (0e+00%)]\t1.533692\n",
            "Train Epoch: 7 [2000/60000 (3e+00%)]\t1.613680\n",
            "Train Epoch: 7 [4000/60000 (7e+00%)]\t1.537577\n",
            "Train Epoch: 7 [6000/60000 (1e+01%)]\t1.587625\n",
            "Train Epoch: 7 [8000/60000 (1e+01%)]\t1.495472\n",
            "Train Epoch: 7 [10000/60000 (2e+01%)]\t1.523984\n",
            "Train Epoch: 7 [12000/60000 (2e+01%)]\t1.520570\n",
            "Train Epoch: 7 [14000/60000 (2e+01%)]\t1.518086\n",
            "Train Epoch: 7 [16000/60000 (3e+01%)]\t1.522552\n",
            "Train Epoch: 7 [18000/60000 (3e+01%)]\t1.579111\n",
            "Train Epoch: 7 [20000/60000 (3e+01%)]\t1.497628\n",
            "Train Epoch: 7 [22000/60000 (4e+01%)]\t1.530910\n",
            "Train Epoch: 7 [24000/60000 (4e+01%)]\t1.479505\n",
            "Train Epoch: 7 [26000/60000 (4e+01%)]\t1.534044\n",
            "Train Epoch: 7 [28000/60000 (5e+01%)]\t1.564105\n",
            "Train Epoch: 7 [30000/60000 (5e+01%)]\t1.485561\n",
            "Train Epoch: 7 [32000/60000 (5e+01%)]\t1.554074\n",
            "Train Epoch: 7 [34000/60000 (6e+01%)]\t1.561614\n",
            "Train Epoch: 7 [36000/60000 (6e+01%)]\t1.527045\n",
            "Train Epoch: 7 [38000/60000 (6e+01%)]\t1.527953\n",
            "Train Epoch: 7 [40000/60000 (7e+01%)]\t1.548127\n",
            "Train Epoch: 7 [42000/60000 (7e+01%)]\t1.562962\n",
            "Train Epoch: 7 [44000/60000 (7e+01%)]\t1.513530\n",
            "Train Epoch: 7 [46000/60000 (8e+01%)]\t1.529774\n",
            "Train Epoch: 7 [48000/60000 (8e+01%)]\t1.526988\n",
            "Train Epoch: 7 [50000/60000 (8e+01%)]\t1.564024\n",
            "Train Epoch: 7 [52000/60000 (9e+01%)]\t1.581723\n",
            "Train Epoch: 7 [54000/60000 (9e+01%)]\t1.503700\n",
            "Train Epoch: 7 [56000/60000 (9e+01%)]\t1.550357\n",
            "Train Epoch: 7 [58000/60000 (1e+02%)]\t1.523143\n",
            "\n",
            "Test set : Average Loss : 0.0149, Accuracy : 9723/10000 (97%\n",
            ")\n",
            "Train Epoch: 8 [0/60000 (0e+00%)]\t1.530663\n",
            "Train Epoch: 8 [2000/60000 (3e+00%)]\t1.552994\n",
            "Train Epoch: 8 [4000/60000 (7e+00%)]\t1.533529\n",
            "Train Epoch: 8 [6000/60000 (1e+01%)]\t1.561568\n",
            "Train Epoch: 8 [8000/60000 (1e+01%)]\t1.558982\n",
            "Train Epoch: 8 [10000/60000 (2e+01%)]\t1.550729\n",
            "Train Epoch: 8 [12000/60000 (2e+01%)]\t1.509284\n",
            "Train Epoch: 8 [14000/60000 (2e+01%)]\t1.492708\n",
            "Train Epoch: 8 [16000/60000 (3e+01%)]\t1.508893\n",
            "Train Epoch: 8 [18000/60000 (3e+01%)]\t1.522550\n",
            "Train Epoch: 8 [20000/60000 (3e+01%)]\t1.500176\n",
            "Train Epoch: 8 [22000/60000 (4e+01%)]\t1.527660\n",
            "Train Epoch: 8 [24000/60000 (4e+01%)]\t1.534029\n",
            "Train Epoch: 8 [26000/60000 (4e+01%)]\t1.540004\n",
            "Train Epoch: 8 [28000/60000 (5e+01%)]\t1.497985\n",
            "Train Epoch: 8 [30000/60000 (5e+01%)]\t1.490129\n",
            "Train Epoch: 8 [32000/60000 (5e+01%)]\t1.542247\n",
            "Train Epoch: 8 [34000/60000 (6e+01%)]\t1.494577\n",
            "Train Epoch: 8 [36000/60000 (6e+01%)]\t1.558275\n",
            "Train Epoch: 8 [38000/60000 (6e+01%)]\t1.532581\n",
            "Train Epoch: 8 [40000/60000 (7e+01%)]\t1.523151\n",
            "Train Epoch: 8 [42000/60000 (7e+01%)]\t1.507395\n",
            "Train Epoch: 8 [44000/60000 (7e+01%)]\t1.518173\n",
            "Train Epoch: 8 [46000/60000 (8e+01%)]\t1.529714\n",
            "Train Epoch: 8 [48000/60000 (8e+01%)]\t1.532862\n",
            "Train Epoch: 8 [50000/60000 (8e+01%)]\t1.495107\n",
            "Train Epoch: 8 [52000/60000 (9e+01%)]\t1.512019\n",
            "Train Epoch: 8 [54000/60000 (9e+01%)]\t1.521324\n",
            "Train Epoch: 8 [56000/60000 (9e+01%)]\t1.524490\n",
            "Train Epoch: 8 [58000/60000 (1e+02%)]\t1.552790\n",
            "\n",
            "Test set : Average Loss : 0.0149, Accuracy : 9723/10000 (97%\n",
            ")\n",
            "Train Epoch: 9 [0/60000 (0e+00%)]\t1.537843\n",
            "Train Epoch: 9 [2000/60000 (3e+00%)]\t1.562217\n",
            "Train Epoch: 9 [4000/60000 (7e+00%)]\t1.559928\n",
            "Train Epoch: 9 [6000/60000 (1e+01%)]\t1.546096\n",
            "Train Epoch: 9 [8000/60000 (1e+01%)]\t1.487010\n",
            "Train Epoch: 9 [10000/60000 (2e+01%)]\t1.545798\n",
            "Train Epoch: 9 [12000/60000 (2e+01%)]\t1.512609\n",
            "Train Epoch: 9 [14000/60000 (2e+01%)]\t1.536715\n",
            "Train Epoch: 9 [16000/60000 (3e+01%)]\t1.492593\n",
            "Train Epoch: 9 [18000/60000 (3e+01%)]\t1.512714\n",
            "Train Epoch: 9 [20000/60000 (3e+01%)]\t1.489403\n",
            "Train Epoch: 9 [22000/60000 (4e+01%)]\t1.507503\n",
            "Train Epoch: 9 [24000/60000 (4e+01%)]\t1.545940\n",
            "Train Epoch: 9 [26000/60000 (4e+01%)]\t1.488470\n",
            "Train Epoch: 9 [28000/60000 (5e+01%)]\t1.501810\n",
            "Train Epoch: 9 [30000/60000 (5e+01%)]\t1.555004\n",
            "Train Epoch: 9 [32000/60000 (5e+01%)]\t1.548018\n",
            "Train Epoch: 9 [34000/60000 (6e+01%)]\t1.520382\n",
            "Train Epoch: 9 [36000/60000 (6e+01%)]\t1.527217\n",
            "Train Epoch: 9 [38000/60000 (6e+01%)]\t1.521545\n",
            "Train Epoch: 9 [40000/60000 (7e+01%)]\t1.546432\n",
            "Train Epoch: 9 [42000/60000 (7e+01%)]\t1.529684\n",
            "Train Epoch: 9 [44000/60000 (7e+01%)]\t1.524774\n",
            "Train Epoch: 9 [46000/60000 (8e+01%)]\t1.543157\n",
            "Train Epoch: 9 [48000/60000 (8e+01%)]\t1.562155\n",
            "Train Epoch: 9 [50000/60000 (8e+01%)]\t1.545622\n",
            "Train Epoch: 9 [52000/60000 (9e+01%)]\t1.526852\n",
            "Train Epoch: 9 [54000/60000 (9e+01%)]\t1.504268\n",
            "Train Epoch: 9 [56000/60000 (9e+01%)]\t1.537994\n",
            "Train Epoch: 9 [58000/60000 (1e+02%)]\t1.525464\n",
            "\n",
            "Test set : Average Loss : 0.0149, Accuracy : 9734/10000 (97%\n",
            ")\n",
            "Train Epoch: 10 [0/60000 (0e+00%)]\t1.524187\n",
            "Train Epoch: 10 [2000/60000 (3e+00%)]\t1.543776\n",
            "Train Epoch: 10 [4000/60000 (7e+00%)]\t1.529016\n",
            "Train Epoch: 10 [6000/60000 (1e+01%)]\t1.525878\n",
            "Train Epoch: 10 [8000/60000 (1e+01%)]\t1.543968\n",
            "Train Epoch: 10 [10000/60000 (2e+01%)]\t1.519604\n",
            "Train Epoch: 10 [12000/60000 (2e+01%)]\t1.505615\n",
            "Train Epoch: 10 [14000/60000 (2e+01%)]\t1.527395\n",
            "Train Epoch: 10 [16000/60000 (3e+01%)]\t1.510364\n",
            "Train Epoch: 10 [18000/60000 (3e+01%)]\t1.531346\n",
            "Train Epoch: 10 [20000/60000 (3e+01%)]\t1.502161\n",
            "Train Epoch: 10 [22000/60000 (4e+01%)]\t1.531662\n",
            "Train Epoch: 10 [24000/60000 (4e+01%)]\t1.559314\n",
            "Train Epoch: 10 [26000/60000 (4e+01%)]\t1.544940\n",
            "Train Epoch: 10 [28000/60000 (5e+01%)]\t1.585874\n",
            "Train Epoch: 10 [30000/60000 (5e+01%)]\t1.539070\n",
            "Train Epoch: 10 [32000/60000 (5e+01%)]\t1.509630\n",
            "Train Epoch: 10 [34000/60000 (6e+01%)]\t1.552011\n",
            "Train Epoch: 10 [36000/60000 (6e+01%)]\t1.513771\n",
            "Train Epoch: 10 [38000/60000 (6e+01%)]\t1.548419\n",
            "Train Epoch: 10 [40000/60000 (7e+01%)]\t1.523120\n",
            "Train Epoch: 10 [42000/60000 (7e+01%)]\t1.516998\n",
            "Train Epoch: 10 [44000/60000 (7e+01%)]\t1.523313\n",
            "Train Epoch: 10 [46000/60000 (8e+01%)]\t1.530726\n",
            "Train Epoch: 10 [48000/60000 (8e+01%)]\t1.498829\n",
            "Train Epoch: 10 [50000/60000 (8e+01%)]\t1.520210\n",
            "Train Epoch: 10 [52000/60000 (9e+01%)]\t1.505265\n",
            "Train Epoch: 10 [54000/60000 (9e+01%)]\t1.527135\n",
            "Train Epoch: 10 [56000/60000 (9e+01%)]\t1.500759\n",
            "Train Epoch: 10 [58000/60000 (1e+02%)]\t1.502746\n",
            "\n",
            "Test set : Average Loss : 0.0149, Accuracy : 9728/10000 (97%\n",
            ")\n"
          ]
        }
      ]
    },
    {
      "cell_type": "code",
      "source": [
        "device"
      ],
      "metadata": {
        "colab": {
          "base_uri": "https://localhost:8080/"
        },
        "id": "iLagGAi2NGjp",
        "outputId": "6b9427bc-3be9-4df1-d81c-caf8281500af"
      },
      "execution_count": 38,
      "outputs": [
        {
          "output_type": "execute_result",
          "data": {
            "text/plain": [
              "device(type='cpu')"
            ]
          },
          "metadata": {},
          "execution_count": 38
        }
      ]
    },
    {
      "cell_type": "code",
      "source": [
        "import matplotlib.pyplot as plt\n",
        "\n",
        "model.eval()\n",
        "\n",
        "data, target = test_data[34]\n",
        "\n",
        "data = data.unsqueeze(0).to(device)\n",
        "\n",
        "output = model(data)\n",
        "\n",
        "prediction = output.argmax(dim=1, keepdim=True).item()\n",
        "\n",
        "print(f\"Prediction : {prediction}\")\n",
        "\n",
        "image = data.squeeze(0).squeeze(0).cpu().numpy()\n",
        "\n",
        "plt.imshow(image, cmap='gray')\n",
        "plt.show()"
      ],
      "metadata": {
        "colab": {
          "base_uri": "https://localhost:8080/",
          "height": 482
        },
        "id": "QZwW5B24U2zr",
        "outputId": "78dab769-8c05-451f-92af-9a89000ef3ac"
      },
      "execution_count": 78,
      "outputs": [
        {
          "output_type": "stream",
          "name": "stdout",
          "text": [
            "Prediction : 7\n"
          ]
        },
        {
          "output_type": "stream",
          "name": "stderr",
          "text": [
            "<ipython-input-31-f51b4eae5eea>:23: UserWarning: Implicit dimension choice for softmax has been deprecated. Change the call to include dim=X as an argument.\n",
            "  return F.softmax(x)\n"
          ]
        },
        {
          "output_type": "display_data",
          "data": {
            "text/plain": [
              "<Figure size 640x480 with 1 Axes>"
            ],
            "image/png": "[encoded data removed]"
          },
          "metadata": {}
        }
      ]
    },
    {
      "cell_type": "code",
      "source": [
        "model_save_path = 'cnn_mnist.pt'\n",
        "\n",
        "tc.save(model.state_dict(), model_save_path)\n",
        "\n",
        "print(f\"Model has saved at {model_save_path}\")"
      ],
      "metadata": {
        "colab": {
          "base_uri": "https://localhost:8080/"
        },
        "id": "KuLaiB80VpJq",
        "outputId": "657a41c0-758a-4630-c1cd-e43524782214"
      },
      "execution_count": 42,
      "outputs": [
        {
          "output_type": "stream",
          "name": "stdout",
          "text": [
            "Model has saved at cnn_mnist.pt\n"
          ]
        }
      ]
    },
    {
      "cell_type": "code",
      "source": [
        "# Asumsikan test_data sudah dimuat seperti pada kode sebelumnya\n",
        "\n",
        "# Buat list kosong untuk menyimpan indeks gambar angka 8\n",
        "indices_of_eight = []\n",
        "\n",
        "# Iterasi melalui dataset uji\n",
        "for i in range(len(test_data)):\n",
        "  # Ambil data dan target (label) pada indeks saat ini\n",
        "  data, target = test_data[i]\n",
        "\n",
        "  # Periksa apakah target (label) adalah 8\n",
        "  if target == 8:\n",
        "    # Jika ya, tambahkan indeks ke list\n",
        "    indices_of_eight.append(i)\n",
        "\n",
        "# Sekarang list indices_of_eight berisi semua indeks gambar dengan angka 8\n",
        "# Anda bisa memilih salah satu indeks dari list ini untuk menampilkan gambar\n",
        "\n",
        "# Contoh: Menampilkan gambar angka 8 pertama yang ditemukan\n",
        "if len(indices_of_eight) > 0:\n",
        "  first_eight_index = indices_of_eight[0]\n",
        "  data_eight, target_eight = test_data[first_eight_index]\n",
        "\n",
        "  # Kode untuk menampilkan gambar (sama seperti sebelumnya)\n",
        "  import matplotlib.pyplot as plt\n",
        "  image_eight = data_eight.squeeze(0).numpy() # Tidak perlu .cpu() jika sudah di CPU\n",
        "  plt.imshow(image_eight, cmap='gray')\n",
        "  plt.title(f\"Gambar dengan angka: {target_eight}\")\n",
        "  plt.show()\n",
        "  print(f\"Menampilkan gambar angka 8 pada indeks: {first_eight_index}\")\n",
        "else:\n",
        "  print(\"Tidak ada gambar dengan angka 8 ditemukan di dataset uji.\")\n",
        "\n",
        "# Anda juga bisa memilih indeks lain dari list indices_of_eight\n",
        "# misalnya indices_of_eight[10] untuk gambar angka 8 ke-11"
      ],
      "metadata": {
        "colab": {
          "base_uri": "https://localhost:8080/",
          "height": 469
        },
        "id": "lffgAEn0WRoI",
        "outputId": "5ec76cff-56d7-474c-ae39-70c485a96c3f"
      },
      "execution_count": 79,
      "outputs": [
        {
          "output_type": "display_data",
          "data": {
            "text/plain": [
              "<Figure size 640x480 with 1 Axes>"
            ],
            "image/png": "[encoded data removed]"
          },
          "metadata": {}
        },
        {
          "output_type": "stream",
          "name": "stdout",
          "text": [
            "Menampilkan gambar angka 8 pada indeks: 61\n"
          ]
        }
      ]
    },
    {
      "cell_type": "code",
      "source": [],
      "metadata": {
        "id": "kve8LvkUZ6At"
      },
      "execution_count": null,
      "outputs": []
    }
  ]
}